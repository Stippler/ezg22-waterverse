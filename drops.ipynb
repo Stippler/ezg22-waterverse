{
 "cells": [
  {
   "cell_type": "code",
   "execution_count": 17,
   "metadata": {},
   "outputs": [],
   "source": [
    "f = open('assets/drops.txt', 'w')\n",
    "\n",
    "def pattern1(i, t):\n",
    "    f.write(f'{t} 0 0 0.1 1\\n')\n",
    "\n",
    "\n",
    "def pattern2(i, t):\n",
    "    if i % 4 == 0:\n",
    "        f.write(f'{t} -0.5 0.5 0.1 1\\n')\n",
    "    if (i+1) % 4 == 0:\n",
    "        f.write(f'{t} 0.5 0.5 0.1 1\\n')\n",
    "    if (i+2) % 4 == 0:\n",
    "        f.write(f'{t} 0.5 -0.5 0.1 1\\n')\n",
    "    if (i+3) % 4 == 0:\n",
    "        f.write(f'{t} -0.5 -0.5 0.1 1\\n')\n",
    "\n",
    "def coord1(i, t):\n",
    "    f.write(f'{t} 0.6 -0.6 0.1 2\\n')\n",
    "    f.write(f'{t} 0.6 0.6 0.1 2\\n')\n",
    "    f.write(f'{t} -0.6 0 0.1 2\\n')\n",
    "\n",
    "def coord2(i, t):\n",
    "    f.write(f'{t} -0.6 0.6 0.1 2\\n')\n",
    "    f.write(f'{t} -0.6 -0.6 0.1 2\\n')\n",
    "    f.write(f'{t} 0.6 0 0.1 2\\n')\n",
    "\n",
    "def pattern4(i, t):\n",
    "    print(f'{t} -0.3 0.3 0.1 1')\n",
    "    print(f'{t} 0.3 0.3 0.1 1')\n",
    "    print(f'{t} 0.3 -0.3 0.1 1')\n",
    "    print(f'{t} -0.3 -0.3 0.1 1')\n",
    "\n",
    "\n",
    "def pattern5(i, t):\n",
    "    print(f'{t} -0.3 0.0 0.1 2')\n",
    "    print(f'{t} 0.3 0.0 0.1 2')\n",
    "    print(f'{t} 0.0 -0.3 0.1 2')\n",
    "    print(f'{t} 0.0 0.3 0.1 2')\n",
    "\n",
    "\n",
    "amount = 200\n",
    "total_time = 93.4\n",
    "# print(f\"{amount} {total_time}\")\n",
    "f.write(f\"{amount} {total_time}\\n\")\n",
    "for i in range(amount):\n",
    "    t = 0.5+i*60/123\n",
    "\n",
    "    if i<4*2 and i%2==0:\n",
    "        pattern2(i//2, t)\n",
    "    if i>=4*2 and i<8*3 and i%2==0:\n",
    "        pattern1(i//2, t)\n",
    "\n",
    "    if i>=14*4+1 and i%2==1:\n",
    "        pattern1(i//2, t)\n",
    "\n",
    "    if i>=8 and i<18*4 and i%2==0:\n",
    "        if i%4==0:\n",
    "            coord1(i, t)\n",
    "        else:\n",
    "            coord2(i, t+30/123)\n",
    "\n",
    "    if i>=18*4 and i<26*4 and i%2==0:\n",
    "        if i%4==0:\n",
    "            coord1(i, t)\n",
    "        else:\n",
    "            coord2(i, t+30/123)\n",
    "            coord2(i, t+45/123)\n"
   ]
  }
 ],
 "metadata": {
  "kernelspec": {
   "display_name": "Python 3",
   "language": "python",
   "name": "python3"
  },
  "language_info": {
   "codemirror_mode": {
    "name": "ipython",
    "version": 3
   },
   "file_extension": ".py",
   "mimetype": "text/x-python",
   "name": "python",
   "nbconvert_exporter": "python",
   "pygments_lexer": "ipython3",
   "version": "3.8.10"
  },
  "orig_nbformat": 4,
  "vscode": {
   "interpreter": {
    "hash": "916dbcbb3f70747c44a77c7bcd40155683ae19c65e1c03b4aa3499c5328201f1"
   }
  }
 },
 "nbformat": 4,
 "nbformat_minor": 2
}
