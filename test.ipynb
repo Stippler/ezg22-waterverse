{
 "cells": [
  {
   "cell_type": "code",
   "execution_count": 1,
   "metadata": {},
   "outputs": [
    {
     "name": "stdout",
     "output_type": "stream",
     "text": [
      "4.0 night\n",
      "11.8 day\n",
      "39.2 night\n",
      "11.6 day\n",
      "15.6 night\n",
      "27.2 day\n",
      "39.2 night\n",
      "11.6 day\n",
      "15.6 night\n",
      "27.2 day\n"
     ]
    }
   ],
   "source": [
    "lines = '''9\n",
    "4.0 night\n",
    "11.8 day\n",
    "39.2 night\n",
    "11.6 day\n",
    "15.6 night\n",
    "27.2 day\n",
    "39.2 night\n",
    "11.6 day\n",
    "15.6 night\n",
    "27.2 day'''.split('\\n')\n",
    "count = 0\n",
    "total_duration = 0\n",
    "for i, line in enumerate(lines):\n",
    "    if i==0:\n",
    "        continue\n",
    "    duration, skybox = line.split(' ')\n",
    "    duration = \n",
    "    count+=1\n",
    "    print(line)"
   ]
  },
  {
   "cell_type": "code",
   "execution_count": null,
   "metadata": {},
   "outputs": [],
   "source": [
    "def pattern1(i, t):\n",
    "    print(f'{t} 0 0 0.1 1')\n",
    " \n",
    "def pattern2(i, t):\n",
    "    if i%4==0:\n",
    "        print(f'{t} -0.3 0.3 0.1 1')\n",
    "    if (i+1)%4==0:\n",
    "        print(f'{t} 0.3 0.3 0.1 1')\n",
    "    if (i+2)%4==0:\n",
    "        print(f'{t} 0.3 -0.3 0.1 1')\n",
    "    if (i+3)%4==0:\n",
    "        print(f'{t} -0.3 -0.3 0.1 1')\n",
    " \n",
    "def pattern3(i, t):\n",
    "    if i%4==0:\n",
    "        print(f'{t} -0.3 0.0 0.1 2')\n",
    "    if (i+1)%4==0:\n",
    "        print(f'{t} 0.3 0.0 0.1 2')\n",
    "    if (i+2)%4==0:\n",
    "        print(f'{t} 0.0 -0.3 0.1 2')\n",
    "    if (i+3)%4==0:\n",
    "        print(f'{t} 0.0 0.3 0.1 2')\n",
    " \n",
    "def pattern4(i, t):\n",
    "    print(f'{t} -0.3 0.3 0.1 1')\n",
    "    print(f'{t} 0.3 0.3 0.1 1')\n",
    "    print(f'{t} 0.3 -0.3 0.1 1')\n",
    "    print(f'{t} -0.3 -0.3 0.1 1')\n",
    " \n",
    "def pattern5(i, t):\n",
    "    print(f'{t} -0.3 0.0 0.1 2')\n",
    "    print(f'{t} 0.3 0.0 0.1 2')\n",
    "    print(f'{t} 0.0 -0.3 0.1 2')\n",
    "    print(f'{t} 0.0 0.3 0.1 2')\n",
    " \n",
    "amount = 200\n",
    "total_time= 93.4\n",
    "print(f\"{amount} {total_time}\")\n",
    "for i in range(amount):\n",
    "    t = 0.5+i*60/123*2\n",
    "    if t>85:\n",
    "        break\n",
    "    if i%12<4:\n",
    "        pattern2(i, t)\n",
    "    elif i%12<8:\n",
    "        pattern3(i, t)\n",
    "    else:\n",
    "        pattern1(i, t)\n",
    "\n"
   ]
  }
 ],
 "metadata": {
  "kernelspec": {
   "display_name": "ldm",
   "language": "python",
   "name": "python3"
  },
  "language_info": {
   "codemirror_mode": {
    "name": "ipython",
    "version": 3
   },
   "file_extension": ".py",
   "mimetype": "text/x-python",
   "name": "python",
   "nbconvert_exporter": "python",
   "pygments_lexer": "ipython3",
   "version": "3.8.5"
  },
  "orig_nbformat": 4,
  "vscode": {
   "interpreter": {
    "hash": "c15b783c4717665e0a741d8d4670e9c67ab07ddd995e05c94ad4c33acad2d005"
   }
  }
 },
 "nbformat": 4,
 "nbformat_minor": 2
}
