{
 "cells": [
  {
   "cell_type": "code",
   "execution_count": 1,
   "metadata": {},
   "outputs": [
    {
     "name": "stdout",
     "output_type": "stream",
     "text": [
      "4.0 night\n",
      "11.8 day\n",
      "39.2 night\n",
      "11.6 day\n",
      "15.6 night\n",
      "27.2 day\n",
      "39.2 night\n",
      "11.6 day\n",
      "15.6 night\n",
      "27.2 day\n"
     ]
    }
   ],
   "source": [
    "lines = '''9\n",
    "4.0 night\n",
    "11.8 day\n",
    "39.2 night\n",
    "11.6 day\n",
    "15.6 night\n",
    "27.2 day\n",
    "39.2 night\n",
    "11.6 day\n",
    "15.6 night\n",
    "27.2 day'''.split('\\n')\n",
    "count = 0\n",
    "total_duration = 0\n",
    "for i, line in enumerate(lines):\n",
    "    if i==0:\n",
    "        continue\n",
    "    duration, skybox = line.split(' ')\n",
    "    duration = \n",
    "    count+=1\n",
    "    print(line)"
   ]
  }
 ],
 "metadata": {
  "kernelspec": {
   "display_name": "ldm",
   "language": "python",
   "name": "python3"
  },
  "language_info": {
   "codemirror_mode": {
    "name": "ipython",
    "version": 3
   },
   "file_extension": ".py",
   "mimetype": "text/x-python",
   "name": "python",
   "nbconvert_exporter": "python",
   "pygments_lexer": "ipython3",
   "version": "3.8.5"
  },
  "orig_nbformat": 4,
  "vscode": {
   "interpreter": {
    "hash": "c15b783c4717665e0a741d8d4670e9c67ab07ddd995e05c94ad4c33acad2d005"
   }
  }
 },
 "nbformat": 4,
 "nbformat_minor": 2
}
